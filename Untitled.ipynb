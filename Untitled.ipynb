{
 "cells": [
  {
   "cell_type": "code",
   "execution_count": 1,
   "id": "975a5f56",
   "metadata": {},
   "outputs": [
    {
     "name": "stdout",
     "output_type": "stream",
     "text": [
      "(12288, 3602)\n",
      "(12288, 895)\n",
      "(5, 3602)\n",
      "(5, 895)\n"
     ]
    },
    {
     "data": {
      "image/png": "[encoded data removed]",
      "text/plain": [
       "<Figure size 640x480 with 1 Axes>"
      ]
     },
     "metadata": {},
     "output_type": "display_data"
    }
   ],
   "source": [
    "import cv2\n",
    "import numpy as np\n",
    "import tensorflow as tf\n",
    "import os\n",
    "import numpy as np\n",
    "import cv2\n",
    "from keras.utils import to_categorical\n",
    "\n",
    "def load_data(train_dir, test_dir, image_size=(64, 64)):\n",
    "    classes = os.listdir(train_dir)\n",
    "    num_classes = len(classes)\n",
    "\n",
    "    # Initialize arrays to hold the image data and labels\n",
    "    X_train = []\n",
    "    y_train = []\n",
    "    X_test = []\n",
    "    y_test = []\n",
    "\n",
    "    # Load the training data\n",
    "    for i in range(num_classes):\n",
    "        class_dir = os.path.join(train_dir, classes[i])\n",
    "        for filename in os.listdir(class_dir):\n",
    "            img = cv2.imread(os.path.join(class_dir, filename))\n",
    "            img = cv2.resize(img, image_size)\n",
    "            X_train.append(img)\n",
    "            y_train.append(i)\n",
    "\n",
    "    # Load the test data\n",
    "    for i in range(num_classes):\n",
    "        class_dir = os.path.join(test_dir, classes[i])\n",
    "        for filename in os.listdir(class_dir):\n",
    "            img = cv2.imread(os.path.join(class_dir, filename))\n",
    "            img = cv2.resize(img, image_size)\n",
    "            X_test.append(img)\n",
    "            y_test.append(i)\n",
    "\n",
    "    # Convert the image data and labels to NumPy arrays\n",
    "    X_train = np.array(X_train)\n",
    "    y_train = np.array(y_train)\n",
    "    X_test = np.array(X_test)\n",
    "    y_test = np.array(y_test)\n",
    "\n",
    "    # Normalize the image data\n",
    "#     train_x = train_x.astype('float32') / 255.\n",
    "#     test_x = test_x.astype('float32') / 255.\n",
    "\n",
    "    return X_train, X_test,y_train ,y_test, classes\n",
    "\n",
    "train_dir='C:/Users/Umang/Downloads/flower_recogni/training_set'\n",
    "test_dir='C:/Users/Umang/Downloads/flower_recogni/testing_set'\n",
    "X_train, X_test, y_train, y_test,classes= load_data(train_dir, test_dir)\n",
    "import matplotlib.pyplot as plt\n",
    "plt.imshow(X_train[101])\n",
    "y_train=y_train.reshape(y_train.shape[0],1).T\n",
    "y_test=y_test.reshape(y_test.shape[0],1).T\n",
    "X_train=X_train.reshape(X_train.shape[0],-1)\n",
    "X_test=X_test.reshape(X_test.shape[0],-1)\n",
    "X_train=X_train.reshape(X_train.shape[0],-1).T\n",
    "X_test=X_test.reshape(X_test.shape[0],-1).T\n",
    "X_train=X_train/255.\n",
    "X_test=X_test/255.\n",
    "y_train = to_categorical(y_train.T)\n",
    "y_test=to_categorical(y_test.T)\n",
    "y_train=y_train.T\n",
    "y_test=y_test.T\n",
    "print(X_train.shape)\n",
    "print(X_test.shape)\n",
    "print(y_train.shape)\n",
    "print(y_test.shape)"
   ]
  },
  {
   "cell_type": "code",
   "execution_count": 2,
   "id": "b32f35ae",
   "metadata": {},
   "outputs": [],
   "source": [
    "def init_w_b(layer):\n",
    "    np.random.seed(3)\n",
    "    w_b={}\n",
    "    for i in range(1,len(layer)):\n",
    "        w_b['W'+str(i)]=np.random.randn(layer[i],layer[i-1])*0.01\n",
    "        w_b['b'+str(i)]=np.zeros((layer[i],1))\n",
    "    return w_b"
   ]
  },
  {
   "cell_type": "code",
   "execution_count": 3,
   "id": "1c051b6f",
   "metadata": {},
   "outputs": [],
   "source": [
    "def softmax(Z):\n",
    "    e_Z = np.exp(Z - np.max(Z, axis=0, keepdims=True))\n",
    "    A = e_Z / e_Z.sum(axis=0)\n",
    "    return A\n",
    "\n",
    "def relu(Z):\n",
    "    A = np.maximum(0,Z)    \n",
    "    assert(A.shape == Z.shape)\n",
    "    return A"
   ]
  },
  {
   "cell_type": "code",
   "execution_count": 4,
   "id": "3e58d8be",
   "metadata": {},
   "outputs": [],
   "source": [
    "def linear_activation_forward(A_prev, W, b, activation):\n",
    "    \n",
    "    if activation == \"relu\":\n",
    "        Z = np.dot(W, A_prev) + b\n",
    "        A = relu(Z)\n",
    "        \n",
    "    elif activation == \"softmax\":\n",
    "        Z = np.dot(W, A_prev) + b\n",
    "        A = softmax(Z)\n",
    "    cache = (A_prev, W, b, Z)\n",
    "\n",
    "    return A, cache"
   ]
  },
  {
   "cell_type": "code",
   "execution_count": 5,
   "id": "26fca587",
   "metadata": {},
   "outputs": [],
   "source": [
    "def model_forward(X, parameters):\n",
    "\n",
    "    caches = []\n",
    "    A = X\n",
    "    L = len(parameters) // 2 \n",
    "    for l in range(1, L):\n",
    "        A_prev = A \n",
    "        A, cache = linear_activation_forward(A_prev, parameters[\"W\" + str(l)], parameters[\"b\" + str(l)], activation=\"relu\")\n",
    "        caches.append(cache)\n",
    "    AL, cache = linear_activation_forward(A, parameters[\"W\" + str(L)], parameters[\"b\" + str(L)], activation=\"softmax\")\n",
    "    caches.append(cache)\n",
    "            \n",
    "    return AL, caches"
   ]
  },
  {
   "cell_type": "code",
   "execution_count": 6,
   "id": "6ff7a047",
   "metadata": {},
   "outputs": [],
   "source": [
    "parameters = init_w_b([12288, 728,728,768, 5])"
   ]
  },
  {
   "cell_type": "code",
   "execution_count": 7,
   "id": "789eddf2",
   "metadata": {},
   "outputs": [
    {
     "data": {
      "text/html": [
       "<div>\n",
       "<style scoped>\n",
       "    .dataframe tbody tr th:only-of-type {\n",
       "        vertical-align: middle;\n",
       "    }\n",
       "\n",
       "    .dataframe tbody tr th {\n",
       "        vertical-align: top;\n",
       "    }\n",
       "\n",
       "    .dataframe thead th {\n",
       "        text-align: right;\n",
       "    }\n",
       "</style>\n",
       "<table border=\"1\" class=\"dataframe\">\n",
       "  <thead>\n",
       "    <tr style=\"text-align: right;\">\n",
       "      <th></th>\n",
       "      <th>0</th>\n",
       "      <th>1</th>\n",
       "      <th>2</th>\n",
       "      <th>3</th>\n",
       "      <th>4</th>\n",
       "    </tr>\n",
       "  </thead>\n",
       "  <tbody>\n",
       "    <tr>\n",
       "      <th>0</th>\n",
       "      <td>0.200710</td>\n",
       "      <td>0.201029</td>\n",
       "      <td>0.200072</td>\n",
       "      <td>0.200391</td>\n",
       "      <td>0.200183</td>\n",
       "    </tr>\n",
       "    <tr>\n",
       "      <th>1</th>\n",
       "      <td>0.198949</td>\n",
       "      <td>0.198961</td>\n",
       "      <td>0.199194</td>\n",
       "      <td>0.199327</td>\n",
       "      <td>0.199785</td>\n",
       "    </tr>\n",
       "    <tr>\n",
       "      <th>2</th>\n",
       "      <td>0.200248</td>\n",
       "      <td>0.200813</td>\n",
       "      <td>0.200441</td>\n",
       "      <td>0.200236</td>\n",
       "      <td>0.199987</td>\n",
       "    </tr>\n",
       "    <tr>\n",
       "      <th>3</th>\n",
       "      <td>0.199848</td>\n",
       "      <td>0.199679</td>\n",
       "      <td>0.200042</td>\n",
       "      <td>0.200084</td>\n",
       "      <td>0.199974</td>\n",
       "    </tr>\n",
       "    <tr>\n",
       "      <th>4</th>\n",
       "      <td>0.200246</td>\n",
       "      <td>0.199517</td>\n",
       "      <td>0.200250</td>\n",
       "      <td>0.199962</td>\n",
       "      <td>0.200071</td>\n",
       "    </tr>\n",
       "  </tbody>\n",
       "</table>\n",
       "</div>"
      ],
      "text/plain": [
       "          0         1         2         3         4\n",
       "0  0.200710  0.201029  0.200072  0.200391  0.200183\n",
       "1  0.198949  0.198961  0.199194  0.199327  0.199785\n",
       "2  0.200248  0.200813  0.200441  0.200236  0.199987\n",
       "3  0.199848  0.199679  0.200042  0.200084  0.199974\n",
       "4  0.200246  0.199517  0.200250  0.199962  0.200071"
      ]
     },
     "execution_count": 7,
     "metadata": {},
     "output_type": "execute_result"
    }
   ],
   "source": [
    "import pandas as pd\n",
    "AL, caches = model_forward(X_train, parameters)\n",
    "pd.DataFrame(AL[:, 0:5])"
   ]
  },
  {
   "cell_type": "code",
   "execution_count": 8,
   "id": "bd9c6f7e",
   "metadata": {},
   "outputs": [],
   "source": [
    "def compute_cost(AL, y):\n",
    "    m = y.shape[1]\n",
    "    cost = -1/m * np.sum(np.multiply(y, np.log(AL + 1e-8)) + np.multiply(1-y, np.log(1-AL + 1e-8)))  \n",
    "    cost = np.squeeze(cost)\n",
    "    return cost"
   ]
  },
  {
   "cell_type": "code",
   "execution_count": 9,
   "id": "ca5a2533",
   "metadata": {},
   "outputs": [
    {
     "name": "stdout",
     "output_type": "stream",
     "text": [
      "2.502160852647682\n"
     ]
    }
   ],
   "source": [
    "cost=compute_cost(AL,y_train)\n",
    "print(cost)"
   ]
  },
  {
   "cell_type": "markdown",
   "id": "97a18dd6",
   "metadata": {},
   "source": [
    "### back propagation"
   ]
  },
  {
   "cell_type": "code",
   "execution_count": 10,
   "id": "eb51c610",
   "metadata": {},
   "outputs": [],
   "source": [
    "def linear_backward(dZ, A_prev, W, b):\n",
    "    m = A_prev.shape[1]\n",
    "\n",
    "    dW = 1/m * np.dot(dZ, A_prev.T)\n",
    "    db = 1/m * np.sum(dZ, axis=1, keepdims=True)\n",
    "    dA_prev = np.dot(W.T, dZ)\n",
    "    \n",
    "    return dA_prev, dW, db"
   ]
  },
  {
   "cell_type": "code",
   "execution_count": 11,
   "id": "13df4252",
   "metadata": {},
   "outputs": [],
   "source": [
    "def relu_backward(dA, cache):\n",
    "    A_prev, W, b, Z = cache\n",
    "    dZ = np.array(dA, copy=True)\n",
    "    dZ[Z <= 0] = 0\n",
    "    dA_prev, dW, db = linear_backward(dZ, A_prev, W, b)\n",
    "    return dA_prev, dW, db\n",
    "\n",
    "def softmax_backward(AL, Y, cache):\n",
    "    A_prev, W, b, Z = cache\n",
    "    dZ = AL - Y\n",
    "    dA_prev, dW, db = linear_backward(dZ, A_prev, W, b)\n",
    "    return dA_prev, dW, db"
   ]
  },
  {
   "cell_type": "code",
   "execution_count": 12,
   "id": "7a4aa7c8",
   "metadata": {},
   "outputs": [],
   "source": [
    "def model_backward(AL, Y, caches):\n",
    "    grads = {}\n",
    "    L = len(caches)\n",
    "    m = AL.shape[1]\n",
    "    Y = Y.reshape(AL.shape)\n",
    "    current_cache = caches[L-1]\n",
    "    grads[\"dA\" + str(L-1)], grads[\"dW\" + str(L)], grads[\"db\" + str(L)] = softmax_backward(AL, Y, current_cache)\n",
    "    for l in reversed(range(L-1)):\n",
    "        current_cache = caches[l]\n",
    "        dA_prev_temp, dW_temp, db_temp = relu_backward(grads[\"dA\" + str(l+1)], current_cache)\n",
    "        grads[\"dA\" + str(l)] = dA_prev_temp\n",
    "        grads[\"dW\" + str(l + 1)] = dW_temp\n",
    "        grads[\"db\" + str(l + 1)] = db_temp\n",
    "\n",
    "    return grads"
   ]
  },
  {
   "cell_type": "code",
   "execution_count": 13,
   "id": "3df13282",
   "metadata": {},
   "outputs": [],
   "source": [
    "grads = model_backward(AL, y_train, caches)"
   ]
  },
  {
   "cell_type": "code",
   "execution_count": 14,
   "id": "50b0b182",
   "metadata": {},
   "outputs": [],
   "source": [
    "def update_parameters(parameters, grads, learning_rate):\n",
    "    L = len(parameters) // 2\n",
    "    for l in range(L):\n",
    "        parameters[\"W\" + str(l+1)] = parameters[\"W\" + str(l+1)] - learning_rate * grads[\"dW\" + str(l+1)]\n",
    "        parameters[\"b\" + str(l+1)] = parameters[\"b\" + str(l+1)] - learning_rate * grads[\"db\" + str(l+1)]\n",
    "    \n",
    "    return parameters"
   ]
  },
  {
   "cell_type": "code",
   "execution_count": 15,
   "id": "3054377f",
   "metadata": {},
   "outputs": [
    {
     "data": {
      "text/html": [
       "<div>\n",
       "<style scoped>\n",
       "    .dataframe tbody tr th:only-of-type {\n",
       "        vertical-align: middle;\n",
       "    }\n",
       "\n",
       "    .dataframe tbody tr th {\n",
       "        vertical-align: top;\n",
       "    }\n",
       "\n",
       "    .dataframe thead th {\n",
       "        text-align: right;\n",
       "    }\n",
       "</style>\n",
       "<table border=\"1\" class=\"dataframe\">\n",
       "  <thead>\n",
       "    <tr style=\"text-align: right;\">\n",
       "      <th></th>\n",
       "      <th>0</th>\n",
       "      <th>1</th>\n",
       "      <th>2</th>\n",
       "      <th>3</th>\n",
       "      <th>4</th>\n",
       "    </tr>\n",
       "  </thead>\n",
       "  <tbody>\n",
       "    <tr>\n",
       "      <th>0</th>\n",
       "      <td>0.200650</td>\n",
       "      <td>0.200970</td>\n",
       "      <td>0.200016</td>\n",
       "      <td>0.200340</td>\n",
       "      <td>0.200134</td>\n",
       "    </tr>\n",
       "    <tr>\n",
       "      <th>1</th>\n",
       "      <td>0.199017</td>\n",
       "      <td>0.199030</td>\n",
       "      <td>0.199257</td>\n",
       "      <td>0.199385</td>\n",
       "      <td>0.199842</td>\n",
       "    </tr>\n",
       "    <tr>\n",
       "      <th>2</th>\n",
       "      <td>0.200176</td>\n",
       "      <td>0.200742</td>\n",
       "      <td>0.200377</td>\n",
       "      <td>0.200178</td>\n",
       "      <td>0.199932</td>\n",
       "    </tr>\n",
       "    <tr>\n",
       "      <th>3</th>\n",
       "      <td>0.199749</td>\n",
       "      <td>0.199580</td>\n",
       "      <td>0.199951</td>\n",
       "      <td>0.200000</td>\n",
       "      <td>0.199895</td>\n",
       "    </tr>\n",
       "    <tr>\n",
       "      <th>4</th>\n",
       "      <td>0.200407</td>\n",
       "      <td>0.199678</td>\n",
       "      <td>0.200399</td>\n",
       "      <td>0.200096</td>\n",
       "      <td>0.200197</td>\n",
       "    </tr>\n",
       "  </tbody>\n",
       "</table>\n",
       "</div>"
      ],
      "text/plain": [
       "          0         1         2         3         4\n",
       "0  0.200650  0.200970  0.200016  0.200340  0.200134\n",
       "1  0.199017  0.199030  0.199257  0.199385  0.199842\n",
       "2  0.200176  0.200742  0.200377  0.200178  0.199932\n",
       "3  0.199749  0.199580  0.199951  0.200000  0.199895\n",
       "4  0.200407  0.199678  0.200399  0.200096  0.200197"
      ]
     },
     "execution_count": 15,
     "metadata": {},
     "output_type": "execute_result"
    }
   ],
   "source": [
    "parameters = update_parameters(parameters, grads, learning_rate=0.0075)\n",
    "AL, caches = model_forward(X_train, parameters)\n",
    "pd.DataFrame(AL[:, 0:5])"
   ]
  },
  {
   "cell_type": "code",
   "execution_count": 16,
   "id": "2a826459",
   "metadata": {},
   "outputs": [],
   "source": [
    "def model(X, Y, layers_dims, learning_rate = 0.0075, num_iterations = 3000, print_cost=False):\n",
    "    np.random.seed(1)\n",
    "    costs = []                         \n",
    "\n",
    "    parameters = init_w_b(layers_dims)\n",
    "    \n",
    "    for i in range(0, num_iterations):\n",
    "        AL, caches = model_forward(X, parameters)\n",
    "        cost = compute_cost(AL, Y)\n",
    "        grads = model_backward(AL, Y, caches)\n",
    "        parameters = update_parameters(parameters, grads, learning_rate)\n",
    "        if print_cost and i % 10 == 0:\n",
    "            print (\"Cost after iteration %i: %f\" %(i, cost))\n",
    "        if print_cost and i % 10 == 0:\n",
    "            costs.append(cost)\n",
    "            \n",
    "    # plot the cost\n",
    "    plt.plot(np.squeeze(costs))\n",
    "    plt.ylabel('cost')\n",
    "    plt.xlabel('iterations (per tens)')\n",
    "    plt.title(\"Learning rate =\" + str(learning_rate))\n",
    "    plt.show()\n",
    "    \n",
    "    return parameters"
   ]
  },
  {
   "cell_type": "code",
   "execution_count": 20,
   "id": "e6ca8ac6",
   "metadata": {},
   "outputs": [],
   "source": [
    "def predict(X, parameters):\n",
    "    probabilities, caches =model_forward(X, parameters)\n",
    "    predictions = (probabilities == np.amax(probabilities, axis=0, keepdims=True))\n",
    "    predictions = predictions.astype(float)\n",
    "\n",
    "    return predictions, probabilities\n",
    "\n",
    "def evaluate_prediction(predictions, Y):\n",
    "    m = Y.shape[1]\n",
    "    predictions_class = predictions.argmax(axis=0).reshape(1, m)\n",
    "    Y_class = Y.argmax(axis=0).reshape(1, m)\n",
    "    \n",
    "    return np.sum((predictions_class == Y_class) / (m))"
   ]
  },
  {
   "cell_type": "code",
   "execution_count": 18,
   "id": "ebd3b73f",
   "metadata": {},
   "outputs": [
    {
     "name": "stdout",
     "output_type": "stream",
     "text": [
      "Cost after iteration 0: 2.502177\n",
      "Cost after iteration 10: 2.494956\n",
      "Cost after iteration 20: 2.488861\n",
      "Cost after iteration 30: 2.483640\n",
      "Cost after iteration 40: 2.479174\n",
      "Cost after iteration 50: 2.475382\n",
      "Cost after iteration 60: 2.472159\n",
      "Cost after iteration 70: 2.469416\n",
      "Cost after iteration 80: 2.467049\n",
      "Cost after iteration 90: 2.464958\n",
      "Cost after iteration 100: 2.463043\n",
      "Cost after iteration 110: 2.461219\n",
      "Cost after iteration 120: 2.459429\n",
      "Cost after iteration 130: 2.457627\n",
      "Cost after iteration 140: 2.455785\n",
      "Cost after iteration 150: 2.453874\n",
      "Cost after iteration 160: 2.451879\n",
      "Cost after iteration 170: 2.449782\n",
      "Cost after iteration 180: 2.447574\n",
      "Cost after iteration 190: 2.445241\n",
      "Cost after iteration 200: 2.442767\n",
      "Cost after iteration 210: 2.440133\n",
      "Cost after iteration 220: 2.437329\n",
      "Cost after iteration 230: 2.434339\n",
      "Cost after iteration 240: 2.431144\n",
      "Cost after iteration 250: 2.427736\n",
      "Cost after iteration 260: 2.424108\n",
      "Cost after iteration 270: 2.420246\n",
      "Cost after iteration 280: 2.416141\n",
      "Cost after iteration 290: 2.411779\n",
      "Cost after iteration 300: 2.407145\n",
      "Cost after iteration 310: 2.402226\n",
      "Cost after iteration 320: 2.397014\n",
      "Cost after iteration 330: 2.391504\n",
      "Cost after iteration 340: 2.385688\n",
      "Cost after iteration 350: 2.379566\n",
      "Cost after iteration 360: 2.373133\n",
      "Cost after iteration 370: 2.366395\n",
      "Cost after iteration 380: 2.359361\n",
      "Cost after iteration 390: 2.352039\n",
      "Cost after iteration 400: 2.344440\n",
      "Cost after iteration 410: 2.336588\n",
      "Cost after iteration 420: 2.328510\n",
      "Cost after iteration 430: 2.320229\n",
      "Cost after iteration 440: 2.311760\n",
      "Cost after iteration 450: 2.303127\n",
      "Cost after iteration 460: 2.294351\n",
      "Cost after iteration 470: 2.285447\n",
      "Cost after iteration 480: 2.276433\n",
      "Cost after iteration 490: 2.267329\n"
     ]
    },
    {
     "data": {
      "image/png": "[encoded data removed]",
      "text/plain": [
       "<Figure size 640x480 with 1 Axes>"
      ]
     },
     "metadata": {},
     "output_type": "display_data"
    }
   ],
   "source": [
    "layers_dims = [12288, 728,728, 5]\n",
    "parameters = model(X_train, y_train, layers_dims, learning_rate = 0.007, num_iterations = 500, print_cost=True)"
   ]
  },
  {
   "cell_type": "code",
   "execution_count": 21,
   "id": "28ba18e7",
   "metadata": {},
   "outputs": [
    {
     "name": "stdout",
     "output_type": "stream",
     "text": [
      "Train set error is: 0.402554136590783\n",
      "Test set error is: 0.36089385474860336\n"
     ]
    }
   ],
   "source": [
    "pred_train, probs_train = predict(X_train, parameters)\n",
    "print(\"Train set error is: \" + str(evaluate_prediction(pred_train, y_train)))\n",
    "pred_test, probs_test = predict(X_test, parameters)\n",
    "print(\"Test set error is: \" + str(evaluate_prediction(pred_test, y_test)))"
   ]
  },
  {
   "cell_type": "code",
   "execution_count": null,
   "id": "fca92c8d",
   "metadata": {},
   "outputs": [],
   "source": []
  }
 ],
 "metadata": {
  "kernelspec": {
   "display_name": "Python 3 (ipykernel)",
   "language": "python",
   "name": "python3"
  },
  "language_info": {
   "codemirror_mode": {
    "name": "ipython",
    "version": 3
   },
   "file_extension": ".py",
   "mimetype": "text/x-python",
   "name": "python",
   "nbconvert_exporter": "python",
   "pygments_lexer": "ipython3",
   "version": "3.9.13"
  }
 },
 "nbformat": 4,
 "nbformat_minor": 5
}
