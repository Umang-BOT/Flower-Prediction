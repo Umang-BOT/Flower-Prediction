{
 "cells": [
  {
   "cell_type": "code",
   "execution_count": 1,
   "id": "d1e0d561",
   "metadata": {},
   "outputs": [],
   "source": [
    "import os\n",
    "import cv2\n",
    "import numpy as np\n",
    "from sklearn.model_selection import train_test_split\n",
    "\n",
    "def load_datasets(img_size=(28, 28)):\n",
    "    # Define the path to the folder containing the subfolders of flower species\n",
    "    data_dir = 'flowers'\n",
    "    flower_species = os.listdir(data_dir)\n",
    "\n",
    "    # Create empty lists for images and labels\n",
    "    images = []\n",
    "    labels = []\n",
    "\n",
    "    # Loop through each subfolder to read images and assign labels\n",
    "    for species in flower_species:\n",
    "        species_dir = os.path.join(data_dir, species)\n",
    "        for img_file in os.listdir(species_dir):\n",
    "            img_path = os.path.join(species_dir, img_file)\n",
    "            img = cv2.imread(img_path)\n",
    "            img = cv2.resize(img, img_size)  # Resize the image to a fixed size\n",
    "            images.append(img)\n",
    "            labels.append(species)\n",
    "\n",
    "    # Convert images and labels into numpy arrays\n",
    "    images = np.array(images)\n",
    "    labels = np.array(labels)\n",
    "\n",
    "    # Split the dataset into training and testing sets\n",
    "    X_train, X_test, y_train, y_test = train_test_split(images, labels, test_size=0.2, random_state=42)\n",
    "\n",
    "    return X_train, X_test, y_train, y_test\n"
   ]
  },
  {
   "cell_type": "code",
   "execution_count": 2,
   "id": "c9fea560",
   "metadata": {},
   "outputs": [],
   "source": [
    "from keras.utils import to_categorical\n",
    "from sklearn.preprocessing import LabelEncoder\n",
    "\n",
    "# Load the datasets\n",
    "X_train, X_test, y_train, y_test = load_datasets()\n",
    "\n",
    "# Convert the labels to numerical values\n",
    "label_encoder = LabelEncoder()\n",
    "y_train = label_encoder.fit_transform(y_train)\n",
    "y_test = label_encoder.transform(y_test)\n",
    "\n",
    "# Convert the labels to one-hot encoded vectors\n",
    "num_classes = len(label_encoder.classes_)\n",
    "y_train = to_categorical(y_train, num_classes=num_classes).T\n",
    "y_test = to_categorical(y_test, num_classes=num_classes).T"
   ]
  },
  {
   "cell_type": "code",
   "execution_count": 3,
   "id": "592901ce",
   "metadata": {},
   "outputs": [
    {
     "name": "stdout",
     "output_type": "stream",
     "text": [
      "(2352, 3309)\n",
      "(2352, 828)\n",
      "(5, 3309)\n",
      "(5, 828)\n"
     ]
    }
   ],
   "source": [
    "X_train = X_train.reshape((X_train.shape[0], -1)).T\n",
    "X_test=X_test.reshape((X_test.shape[0],-1)).T\n",
    "print(X_train.shape)\n",
    "print(X_test.shape)\n",
    "print(y_train.shape)\n",
    "print(y_test.shape)"
   ]
  },
  {
   "cell_type": "code",
   "execution_count": 4,
   "id": "94e63071",
   "metadata": {},
   "outputs": [
    {
     "data": {
      "image/png": "[encoded data removed]",
      "text/plain": [
       "<Figure size 640x480 with 1 Axes>"
      ]
     },
     "metadata": {},
     "output_type": "display_data"
    }
   ],
   "source": [
    "import random\n",
    "import matplotlib.pyplot as plt\n",
    "index=random.randrange(0,X_train.shape[1])\n",
    "plt.imshow(X_train[:,index].reshape(28,28,3),cmap='gray')\n",
    "plt.show()"
   ]
  },
  {
   "cell_type": "code",
   "execution_count": 5,
   "id": "04a9128c",
   "metadata": {},
   "outputs": [],
   "source": [
    "def tanh(Z):\n",
    "    return np.tanh(Z)\n",
    "def relu(Z):\n",
    "    return np.maximum(Z,0)\n",
    "def softmax(Z):\n",
    "    exp=np.exp(Z)\n",
    "    return exp/np.sum(exp,axis=0)"
   ]
  },
  {
   "cell_type": "code",
   "execution_count": 6,
   "id": "3e50aebe",
   "metadata": {},
   "outputs": [],
   "source": [
    "def tanh_backward(Z):\n",
    "    return (1-np.power(Z,2))\n",
    "def relu_backward(Z):\n",
    "    return np.array(Z>0,dtype=np.float32)"
   ]
  },
  {
   "cell_type": "code",
   "execution_count": null,
   "id": "3c132c98",
   "metadata": {},
   "outputs": [],
   "source": [
    "def init_w_b(layers):\n",
    "    w1=np.random.randn(layers[1],layers[0])*0.01\n",
    "    b1=np.zeros((layers[1],1))\n",
    "    w2=np.random.randn(layers[2],layers[1])*0.01\n",
    "    b2=np.zeros((layers[2],1))\n",
    "    w_b={\n",
    "        'W1':w1,'b1':b1,'W2':w2,'b2':b2\n",
    "    }\n",
    "    return w_b"
   ]
  },
  {
   "cell_type": "code",
   "execution_count": null,
   "id": "0802cb97",
   "metadata": {},
   "outputs": [],
   "source": [
    "def forward_prop(X,w_b):\n",
    "    W1=w_b['W1']\n",
    "    b1=w_b['b1']\n",
    "    W2=w_b['W2']\n",
    "    b2=w_b['b2']\n",
    "    \n",
    "    Z1=np.dot(W1,X)+b1\n",
    "    a1=relu(Z1)\n",
    "    Z2=np.dot(W2,a1)+b2\n",
    "    a2=softmax(Z2)\n",
    "    cache={\n",
    "        'Z1':Z1,'a1':a1,'Z2':Z2,'a2':a2\n",
    "    }\n",
    "        \n",
    "    return cache"
   ]
  },
  {
   "cell_type": "code",
   "execution_count": null,
   "id": "3880a844",
   "metadata": {},
   "outputs": [],
   "source": [
    "def compute_cost(AL, Y):\n",
    "    m = Y.shape[1]\n",
    "    epsilon = 1e-8\n",
    "    cost = -(1/m)*np.sum(np.multiply(Y, np.log(AL+epsilon)) + np.multiply(1-Y, np.log(1-AL+epsilon)))\n",
    "    cost = np.squeeze(cost)\n",
    "    return cost"
   ]
  },
  {
   "cell_type": "code",
   "execution_count": null,
   "id": "d7195cb6",
   "metadata": {},
   "outputs": [],
   "source": [
    "def back_prop(X,y,w_b,cache):\n",
    "    W1=w_b['W1']\n",
    "    b1=w_b['b1']\n",
    "    W2=w_b['W2']\n",
    "    b1=w_b['b2']\n",
    "    \n",
    "    a1=cache['a1']\n",
    "    a2=cache['a2']\n",
    "    \n",
    "    m=X.shape[1]\n",
    "    dZ2=(a2-y)\n",
    "    dW2=(1/m)*np.dot(dZ2,a1.T)\n",
    "    db2=(1/m)*np.sum(dZ2,axis=1,keepdims=True)\n",
    "    \n",
    "    dZ1=(1/m)*np.dot(W2.T,dZ2)*relu_backward(a1)\n",
    "    dW1=(1/m)*np.dot(dZ1,X.T)\n",
    "    db1=(1/m)*np.sum(dZ1,axis=1,keepdims=True)\n",
    "    \n",
    "    grads={\n",
    "        'dW1':dW1,'db1':db1,'dW2':dW2,'db2':db2\n",
    "    }\n",
    "    return grads"
   ]
  },
  {
   "cell_type": "code",
   "execution_count": null,
   "id": "111ab3d5",
   "metadata": {},
   "outputs": [],
   "source": [
    "def update_w_b(w_b,grads,alpha):\n",
    "    w1=w_b['W1']\n",
    "    b1=w_b['b1']\n",
    "    w2=w_b['W2']\n",
    "    b2=w_b['b2']\n",
    "    \n",
    "    dw1=grads['dW1']\n",
    "    db1=grads['db1']\n",
    "    dw2=grads['dW2']\n",
    "    db2=grads['db2']\n",
    "    \n",
    "    w1-=(dw1*alpha)\n",
    "    b1-=(db1*alpha)\n",
    "    w2-=(dw2*alpha)\n",
    "    b2-=(db2*alpha)\n",
    "    \n",
    "    w_b={\n",
    "        'W1':w1,'b1':b1,'W2':w2,'b2':b2\n",
    "    }\n",
    "    return w_b\n",
    "    "
   ]
  },
  {
   "cell_type": "code",
   "execution_count": null,
   "id": "75296073",
   "metadata": {},
   "outputs": [],
   "source": [
    "def model(X,y,alpha,iters,layer):\n",
    "    costt=[]\n",
    "    w_b=init_w_b(layer)\n",
    "    for i in range(iters):\n",
    "        cache=forward_prop(X,w_b)\n",
    "        cost=compute_cost(cache['a2'],y)\n",
    "        grads=back_prop(X,y,w_b,cache)\n",
    "        w_b=update_w_b(w_b,grads,alpha)\n",
    "        costt.append(cost)\n",
    "        if(i%(iters/10)==0):\n",
    "            print('Cost after',i,'iters is: ',cost)\n",
    "    return w_b,costt"
   ]
  },
  {
   "cell_type": "code",
   "execution_count": 51,
   "id": "61f28ba2",
   "metadata": {
    "scrolled": true
   },
   "outputs": [
    {
     "name": "stdout",
     "output_type": "stream",
     "text": [
      "Cost after 0 iters is:  8.734606336787417\n",
      "Cost after 50 iters is:  18.235628684608734\n",
      "Cost after 100 iters is:  24.927362221645446\n",
      "Cost after 150 iters is:  17.170776202516375\n",
      "Cost after 200 iters is:  15.419974521657043\n",
      "Cost after 250 iters is:  14.166489676189464\n",
      "Cost after 300 iters is:  17.986038869973783\n",
      "Cost after 350 iters is:  16.54851928876232\n",
      "Cost after 400 iters is:  16.98700722780536\n",
      "Cost after 450 iters is:  14.546574082369293\n"
     ]
    }
   ],
   "source": [
    "layer=[X_train.shape[0],300,y_train.shape[0]]\n",
    "params,costt=model(X_train,y_train,0.001,500,layer)"
   ]
  },
  {
   "cell_type": "code",
   "execution_count": null,
   "id": "7ae8fe9f",
   "metadata": {},
   "outputs": [],
   "source": [
    "t=np.arange(0,5000)\n",
    "plt.plot(t,costt)\n",
    "plt.show()"
   ]
  },
  {
   "cell_type": "code",
   "execution_count": null,
   "id": "012a6514",
   "metadata": {},
   "outputs": [],
   "source": [
    "forr=forward_prop(X_train,params)\n",
    "a_out=forr['a2']\n",
    "a_out=np.argmax(a_out,0)\n",
    "y_out=np.argmax(y_train,0)\n",
    "a_out==y_out\n",
    "acc=np.mean(a_out==y_out)*100\n",
    "print(acc)"
   ]
  },
  {
   "cell_type": "code",
   "execution_count": null,
   "id": "1d4615ea",
   "metadata": {},
   "outputs": [],
   "source": []
  }
 ],
 "metadata": {
  "kernelspec": {
   "display_name": "Python 3 (ipykernel)",
   "language": "python",
   "name": "python3"
  },
  "language_info": {
   "codemirror_mode": {
    "name": "ipython",
    "version": 3
   },
   "file_extension": ".py",
   "mimetype": "text/x-python",
   "name": "python",
   "nbconvert_exporter": "python",
   "pygments_lexer": "ipython3",
   "version": "3.9.13"
  }
 },
 "nbformat": 4,
 "nbformat_minor": 5
}
